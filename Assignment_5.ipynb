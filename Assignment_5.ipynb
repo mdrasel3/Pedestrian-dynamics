{
 "cells": [
  {
   "cell_type": "code",
   "execution_count": null,
   "metadata": {},
   "outputs": [],
   "source": [
    "import jupedsim as jps\n",
    "from shapely import Polygon\n",
    "import pathlib"
   ]
  },
  {
   "cell_type": "code",
   "execution_count": null,
   "metadata": {},
   "outputs": [],
   "source": [
    "walls = Polygon([\n",
    "    (0, 0), (0, 10), (10, 10), (10, 7.4), (10.2, 7.4), (10.2, 10), (14.8, 10), (14.8, 6.1), (15, 6.1), (15, 10.2), (-0.2, 10.2),(-0.2, -0.2), (15, -0.2), (15, 3.9), (14.8, 3.9), (14.8, 0),(10.2, 0), (10.2, 2.6), (10, 2.6), (10, 0)\n",
    "])\n",
    "area_total = Polygon([(-0.2,-0.2), (15,-0.2), (15, 10.2), (-0.2,10.2)])\n",
    "walls_of_A = walls\n",
    "walkable_area = area_total.difference(walls_of_A)\n",
    "exit_area = Polygon ([ (14.8, 4),(15, 4),(15, 6),(14.8, 6) ])"
   ]
  },
  {
   "cell_type": "code",
   "execution_count": null,
   "metadata": {},
   "outputs": [],
   "source": [
    "spawning_area = Polygon([(0.1, 0.1), (5.1, 0.1), (5.1, 9.9), (0.1, 9.9)])\n",
    "num_agents = 85\n",
    "pos_in_spawning_area = jps.distributions.distribute_by_number(\n",
    "    polygon=spawning_area,\n",
    "    number_of_agents=num_agents,\n",
    "    distance_to_agents=0.4,\n",
    "    distance_to_polygon=0.2,\n",
    "    seed=1,\n",
    ")"
   ]
  },
  {
   "cell_type": "code",
   "execution_count": null,
   "metadata": {},
   "outputs": [],
   "source": [
    "trajectory_file = \"area_A.sqlite\"\n",
    "\n",
    "simulation = jps.Simulation(\n",
    "    model = jps.CollisionFreeSpeedModel(),\n",
    "    geometry = walkable_area,\n",
    "    trajectory_writer=jps.SqliteTrajectoryWriter(\n",
    "        output_file=pathlib.Path(trajectory_file)\n",
    "    ),\n",
    ")\n",
    "\n",
    "#exit_coords = [list(polygon.exterior.coords) for polygon in exit_area]\n",
    "#flat_exit_coords = [coord for sublist in exit_coords for coord in sublist]\n",
    "exit_id = simulation.add_exit_stage(exit_area)\n",
    "\n",
    "journey_id = simulation.add_journey(jps.JourneyDescription([exit_id]))\n",
    "\n",
    "for pos in pos_in_spawning_area:\n",
    "    agent_parameters = jps.CollisionFreeSpeedModelAgentParameters(\n",
    "            journey_id=journey_id,stage_id = exit_id,position = pos,\n",
    "        )\n",
    "    simulation.add_agent(agent_parameters)\n",
    "\n",
    "while simulation.agent_count() > 0 and simulation.iteration_count() < 5000: \n",
    "    simulation.iterate()\n",
    "\n",
    "dt = 0.05\n",
    "simulation_time = simulation.iteration_count() * dt\n",
    "print(f\"Simulation time for Case A is : {simulation_time} seconds.\")"
   ]
  },
  {
   "cell_type": "code",
   "execution_count": null,
   "metadata": {},
   "outputs": [],
   "source": [
    "from jupedsim.internal.notebook_utils import animate, read_sqlite_file\n",
    "\n",
    "trajectory_data, walkable_area = read_sqlite_file(trajectory_file)\n",
    "animate(trajectory_data, walkable_area, every_nth_frame=10)"
   ]
  }
 ],
 "metadata": {
  "kernelspec": {
   "display_name": "venv",
   "language": "python",
   "name": "venv"
  },
  "language_info": {
   "codemirror_mode": {
    "name": "ipython",
    "version": 3
   },
   "file_extension": ".py",
   "mimetype": "text/x-python",
   "name": "python",
   "nbconvert_exporter": "python",
   "pygments_lexer": "ipython3",
   "version": "3.10.0"
  }
 },
 "nbformat": 4,
 "nbformat_minor": 2
}
