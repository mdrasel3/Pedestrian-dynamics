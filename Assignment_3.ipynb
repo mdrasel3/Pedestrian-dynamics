{
 "cells": [
  {
   "cell_type": "markdown",
   "metadata": {},
   "source": [
    "## Horizontal Counter-Flow Assessment\n",
    "### Prepared By : Md Rasel\n",
    "### Matriculation No. 2130710\n",
    "I have used \"Lane formation in bi-directional flow\" from jupedsim's website as my starting point. In the methodology of the step-1,it was mentioned that the space should be filled with the highest possible density. However, I am not sure how can that be implemented.\n",
    "In the step-2, when the agents were added to the simulation, for 10 agents, the evacuation time was over 2 times than before (step-1). Moreover, my simulation was going on for an infinte period of time while the agents on room2 were 50 and 100. Due to this reason, I have stoped the simulation after 3000 iterations."
   ]
  },
  {
   "cell_type": "code",
   "execution_count": null,
   "metadata": {},
   "outputs": [],
   "source": [
    "import pathlib\n",
    "import jupedsim as jps\n",
    "from shapely import Polygon, GeometryCollection\n",
    "import pedpy\n",
    "import matplotlib.pyplot as plt"
   ]
  },
  {
   "cell_type": "markdown",
   "metadata": {},
   "source": [
    "### Geometry"
   ]
  },
  {
   "cell_type": "code",
   "execution_count": null,
   "metadata": {},
   "outputs": [],
   "source": [
    "room1 = Polygon([(0, 0), (10, 0), (10, 10), (0, 10)])\n",
    "room2 = Polygon([(20, 0), (30, 0), (30, 10), (20, 10)])\n",
    "corridor = Polygon([(10, 4), (20, 4), (20, 6), (10, 6)])\n",
    "area = GeometryCollection(corridor.union(room1.union(room2)))\n",
    "\n",
    "exit_polygon_left = Polygon([(9.9, 4), (9.8, 4), (9.8, 6), (9.9, 6)])\n",
    "exit_polygon_right = Polygon([(20.1, 4), (20.2, 4), (20.2, 6), (20.1, 6)])\n",
    "\n",
    "distribution_polygon_left = Polygon([(0, 0), (5, 0), (5, 10), (0, 10)])\n",
    "distribution_polygon_right = Polygon([(25, 0), (30, 0), (30, 10), (25, 10)])\n",
    "\n",
    "measurement_area = pedpy.MeasurementArea([[10, 4], [20, 4], [20, 6], [10, 6]])\n",
    "measurement_line_left = pedpy.MeasurementLine([[10, 4], [10, 6]])\n",
    "measurement_line_right = pedpy.MeasurementLine([[20, 4], [20, 6]])\n",
    "walkable_area = pedpy.WalkableArea(area.geoms[0])\n",
    "\n",
    "fig, ax = plt.subplots(nrows=1, ncols=1)\n",
    "ax.set_aspect(\"equal\")\n",
    "pedpy.plot_measurement_setup(\n",
    "    walkable_area=walkable_area,\n",
    "    measurement_areas=[measurement_area],\n",
    "    measurement_lines=[measurement_line_left, measurement_line_right],\n",
    "    ml_color=\"red\",\n",
    "    ml_width=2,\n",
    "    axes=ax,\n",
    ")\n",
    "for id, polygon in enumerate(\n",
    "    [distribution_polygon_left, distribution_polygon_right]\n",
    "):\n",
    "    x, y = polygon.exterior.xy\n",
    "    plt.fill(x, y, alpha=0.1, color=\"gray\")\n",
    "    centroid = polygon.centroid\n",
    "    plt.text(\n",
    "        centroid.x,\n",
    "        centroid.y,\n",
    "        f\"Room {id+1}\",\n",
    "        ha=\"center\",\n",
    "        va=\"center\",\n",
    "        fontsize=10,\n",
    "    )"
   ]
  },
  {
   "cell_type": "markdown",
   "metadata": {},
   "source": [
    "### Simulation definition, scenarios"
   ]
  },
  {
   "cell_type": "code",
   "execution_count": null,
   "metadata": {},
   "outputs": [],
   "source": [
    "simulations = {}\n",
    "COLUMNS = 10\n",
    "number_agents = [\n",
    "    (10 * COLUMNS, 0 * COLUMNS), # 100 agents in room1\n",
    "    (10 * COLUMNS, 1 * COLUMNS), # 100 agents in room1, 10 agents in room2\n",
    "    (10 * COLUMNS, 5 * COLUMNS), # 100 agents in room1, 50 agents in room2\n",
    "    (10 * COLUMNS, 10 * COLUMNS), # 100 agents in room1, 100 agents in room2\n",
    "]\n",
    "for number in number_agents:\n",
    "    trajectory_file = f\"trajectories_number_agents_{number}.sqlite\"\n",
    "    simulation = jps.Simulation(\n",
    "        dt=0.05,\n",
    "        model=jps.CollisionFreeSpeedModel(\n",
    "            strength_neighbor_repulsion=2.6,\n",
    "            range_neighbor_repulsion=0.1,\n",
    "            range_geometry_repulsion=0.05,\n",
    "        ),\n",
    "        geometry=walkable_area.polygon,\n",
    "        trajectory_writer=jps.SqliteTrajectoryWriter(\n",
    "            output_file=pathlib.Path(trajectory_file),\n",
    "        ),\n",
    "    )\n",
    "    simulations[number] = simulation\n",
    "\n",
    "rhs_agents_variable = {}\n",
    "lhs_agents_fixed = {}\n",
    "\n",
    "for number, simulation in simulations.items():\n",
    "    exits = [\n",
    "        simulation.add_exit_stage(exit_polygon_left),\n",
    "        simulation.add_exit_stage(exit_polygon_right),\n",
    "    ]\n",
    "    journeys = [\n",
    "        simulation.add_journey(jps.JourneyDescription([exit]))\n",
    "        for exit in exits\n",
    "    ]\n",
    "\n",
    "    # right side group\n",
    "    positions = jps.distribute_by_number(\n",
    "        polygon=distribution_polygon_right,\n",
    "        number_of_agents=number[1],\n",
    "        distance_to_agents=0.4,\n",
    "        distance_to_polygon=0.5,\n",
    "        seed=45131502,\n",
    "    )\n",
    "    group1 = set(\n",
    "        [\n",
    "            simulation.add_agent(\n",
    "                jps.CollisionFreeSpeedModelAgentParameters(\n",
    "                    position=position,\n",
    "                    journey_id=journeys[0],\n",
    "                    stage_id=exits[0],\n",
    "                )\n",
    "            )\n",
    "            for position in positions\n",
    "        ]\n",
    "    )\n",
    "\n",
    "    # left side group\n",
    "    positions = jps.distribute_by_number(\n",
    "        polygon=distribution_polygon_left,\n",
    "        number_of_agents=number[0],\n",
    "        distance_to_agents=0.4,\n",
    "        distance_to_polygon=0.5,\n",
    "        seed=45131502,\n",
    "    )\n",
    "\n",
    "    group2 = set(\n",
    "        [\n",
    "            simulation.add_agent(\n",
    "                jps.CollisionFreeSpeedModelAgentParameters(\n",
    "                    position=position,\n",
    "                    journey_id=journeys[1],\n",
    "                    stage_id=exits[1],\n",
    "                )\n",
    "            )\n",
    "            for position in positions\n",
    "        ]\n",
    "    )\n",
    "\n",
    "    rhs_agents_variable[number] = group1\n",
    "    lhs_agents_fixed[number] = group2\n",
    "    \n",
    "trajectory_files = {}\n",
    "dt = 0.05\n",
    "for number, simulation in simulations.items():\n",
    "    while simulation.agent_count() > 0 and simulation.iteration_count() < 3000:\n",
    "        simulation.iterate()\n",
    "    \n",
    "    print(\n",
    "        f\"Simulation time: {simulation.iteration_count()*dt} seconds {number} agents.\"\n",
    "    )\n",
    "\n",
    "    trajectory_file = f\"trajectories_number_agents_{number}.sqlite\"\n",
    "    trajectory_files[number] = trajectory_file"
   ]
  },
  {
   "cell_type": "markdown",
   "metadata": {},
   "source": [
    "### Visualisation "
   ]
  },
  {
   "cell_type": "code",
   "execution_count": null,
   "metadata": {},
   "outputs": [],
   "source": [
    "from jupedsim.internal.notebook_utils import animate, read_sqlite_file\n",
    "\n",
    "agent_trajectories = {}\n",
    "for number in number_agents:\n",
    "    trajectory_file = trajectory_files[number]\n",
    "    agent_trajectories[number], walkable_area = read_sqlite_file(trajectory_file)\n",
    "    animate(agent_trajectories[number],walkable_area,every_nth_frame=5).show()"
   ]
  },
  {
   "cell_type": "markdown",
   "metadata": {},
   "source": [
    "### Data Visualisation"
   ]
  },
  {
   "cell_type": "code",
   "execution_count": null,
   "metadata": {},
   "outputs": [],
   "source": [
    "evac_times = {}\n",
    "for i, number in enumerate(number_agents):\n",
    "    trajectories = agent_trajectories[number].data\n",
    "    fps = agent_trajectories[number].frame_rate\n",
    "    evac_time = trajectories[\"frame\"].max() / fps\n",
    "    agents_room2 = number[1]\n",
    "    evac_times[agents_room2] = evac_time\n",
    "\n",
    "plt.plot(list(evac_times.keys()), list(evac_times.values()), \"o--\", ms=10)\n",
    "plt.xlabel(\"Number of agents in Room2\")\n",
    "plt.ylabel(\"Evacuation time [s]\")\n",
    "plt.grid()\n",
    "plt.show()"
   ]
  }
 ],
 "metadata": {
  "kernelspec": {
   "display_name": "venv",
   "language": "python",
   "name": "venv"
  },
  "language_info": {
   "codemirror_mode": {
    "name": "ipython",
    "version": 3
   },
   "file_extension": ".py",
   "mimetype": "text/x-python",
   "name": "python",
   "nbconvert_exporter": "python",
   "pygments_lexer": "ipython3",
   "version": "3.10.0"
  }
 },
 "nbformat": 4,
 "nbformat_minor": 2
}
