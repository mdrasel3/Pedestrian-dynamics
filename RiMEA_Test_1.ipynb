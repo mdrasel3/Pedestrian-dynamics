{
 "cells": [
  {
   "cell_type": "markdown",
   "id": "ba2068f9",
   "metadata": {},
   "source": [
    "# Name: Md Rasel\n",
    "## Matriculation no: 2130710"
   ]
  },
  {
   "cell_type": "markdown",
   "id": "c4769f99",
   "metadata": {},
   "source": [
    "## RiMEA Test 1 Maintaining the specified walking speed in a corridor\n",
    "It is to be proven that a person in a 2 m wide and 40 m long corridor with a defined walking speed will \n",
    "cover the distance in the corresponding time period.\n",
    "\n",
    "If 40 cm (body dimension), 1 second (premovement time) and 5% (walking speed)are set as imprecise values, then the following requirement results with a typical pedestrian speed of 1.33 m/sec: the speed should be set at a value between 4.5 and 5.1 km/h. The travel time should lie in the range of 26 to 34 \n",
    "seconds when 1.33 m/sec is set as the speed."
   ]
  },
  {
   "cell_type": "markdown",
   "id": "1a27409f",
   "metadata": {},
   "source": [
    "I have used [Jupedsim](https://www.jupedsim.org/stable/notebooks/corner.html) as my starting point. "
   ]
  },
  {
   "cell_type": "code",
   "execution_count": 1,
   "id": "e6d14a0e",
   "metadata": {},
   "outputs": [],
   "source": [
    "import pathlib\n",
    "import pedpy\n",
    "import shapely\n",
    "from shapely import Polygon\n",
    "import jupedsim as jps\n",
    "import pandas as pd\n",
    "import numpy as np\n",
    "import matplotlib.pyplot as plt\n",
    "\n",
    "from rich.console import Console\n",
    "from rich.progress import Progress"
   ]
  },
  {
   "cell_type": "markdown",
   "id": "811ec0b3",
   "metadata": {},
   "source": [
    "All the required libraries are called above."
   ]
  },
  {
   "cell_type": "markdown",
   "id": "ee2ce4d0",
   "metadata": {},
   "source": [
    "## Setting up the Geometry"
   ]
  },
  {
   "cell_type": "code",
   "execution_count": 2,
   "id": "c7de29d8",
   "metadata": {},
   "outputs": [
    {
     "data": {
      "image/png": "[encoded data removed]",
      "text/plain": [
       "<Figure size 640x480 with 1 Axes>"
      ]
     },
     "metadata": {},
     "output_type": "display_data"
    }
   ],
   "source": [
    "corridor = shapely.Polygon([(0, 0), (42, 0), (42, 2), (0, 2)])\n",
    "\n",
    "exit_polygon = shapely.Polygon(([(40,0), (42,0), (42,2), (40,2)]))\n",
    "\n",
    "walkable_area = pedpy.WalkableArea(corridor)\n",
    "\n",
    "fig, ax = plt.subplots(nrows=1, ncols=1)\n",
    "ax.set_aspect(\"equal\")\n",
    "_, ymin, _, ymax = walkable_area.bounds\n",
    "ax.set_ylim(ymin - 2, ymax + 2)\n",
    "pedpy.plot_walkable_area(walkable_area=walkable_area, axes=ax)\n",
    "\n",
    "x, y = Polygon(exit_polygon).exterior.xy\n",
    "plt.fill(x, y, alpha=0.1, color=\"green\")\n",
    "centroid = Polygon(exit_polygon).centroid\n",
    "plt.text(centroid.x, centroid.y, \"Exit\", ha=\"center\", va=\"center\", fontsize=8)\n",
    "\n",
    "plt.show()"
   ]
  },
  {
   "cell_type": "markdown",
   "id": "d6c75854",
   "metadata": {},
   "source": [
    "# Definition of Start Positions and Exit\n",
    "2 m wide and 40 m long corridor with 1 agent."
   ]
  },
  {
   "cell_type": "code",
   "execution_count": 3,
   "id": "0a28da8c",
   "metadata": {},
   "outputs": [],
   "source": [
    "spawning_area = Polygon([(0, 0), (40, 0), (40, 2), (0, 2)])\n",
    "num_agents = 1\n"
   ]
  },
  {
   "cell_type": "markdown",
   "id": "218293b8",
   "metadata": {},
   "source": [
    "The spawning area is shown in grey and the exit area in green."
   ]
  },
  {
   "cell_type": "code",
   "execution_count": 4,
   "id": "b820a4ac",
   "metadata": {},
   "outputs": [],
   "source": [
    "def plot_simulation_configuration(\n",
    "    walkable_area, spawning_area, exit_polygon\n",
    "):\n",
    "    axes = pedpy.plot_walkable_area(walkable_area=walkable_area)\n",
    "    axes.fill(*spawning_area.exterior.xy, color=\"lightgrey\")\n",
    "    axes.fill(*exit_polygon.exterior.xy, color=\"green\")\n",
    "    #axes.scatter(*zip(*starting_positions))\n",
    "    axes.set_xlabel(\"x/m\")\n",
    "    axes.set_ylabel(\"y/m\")\n",
    "    axes.set_aspect(\"equal\")"
   ]
  },
  {
   "cell_type": "code",
   "execution_count": 5,
   "id": "7c1c34d6",
   "metadata": {},
   "outputs": [
    {
     "data": {
      "image/png": "[encoded data removed]",
      "text/plain": [
       "<Figure size 640x480 with 1 Axes>"
      ]
     },
     "metadata": {},
     "output_type": "display_data"
    }
   ],
   "source": [
    "plot_simulation_configuration(\n",
    "    walkable_area, spawning_area, exit_polygon\n",
    ")"
   ]
  },
  {
   "cell_type": "markdown",
   "id": "9ddb807b",
   "metadata": {},
   "source": [
    "# Setting up and executing the Simulation\n",
    "The operational model used for this imulation is \"Collision-free speed model\". Default values for the model parameters are set implicitly."
   ]
  },
  {
   "cell_type": "code",
   "execution_count": 6,
   "id": "f139f30f",
   "metadata": {
    "scrolled": false
   },
   "outputs": [
    {
     "data": {
      "application/vnd.jupyter.widget-view+json": {
       "model_id": "79afb3b81b374a4396c9dfeabb552984",
       "version_major": 2,
       "version_minor": 0
      },
      "text/plain": [
       "Output()"
      ]
     },
     "metadata": {},
     "output_type": "display_data"
    },
    {
     "data": {
      "text/html": [
       "<pre style=\"white-space:pre;overflow-x:auto;line-height:normal;font-family:Menlo,'DejaVu Sans Mono',consolas,'Courier New',monospace\"></pre>\n"
      ],
      "text/plain": []
     },
     "metadata": {},
     "output_type": "display_data"
    },
    {
     "data": {
      "text/html": [
       "<pre style=\"white-space:pre;overflow-x:auto;line-height:normal;font-family:Menlo,'DejaVu Sans Mono',consolas,'Courier New',monospace\">\n",
       "</pre>\n"
      ],
      "text/plain": [
       "\n"
      ]
     },
     "metadata": {},
     "output_type": "display_data"
    },
    {
     "name": "stdout",
     "output_type": "stream",
     "text": [
      "Elapsed time is 30.7 seconds.\n"
     ]
    },
    {
     "data": {
      "text/html": [
       "<pre style=\"white-space:pre;overflow-x:auto;line-height:normal;font-family:Menlo,'DejaVu Sans Mono',consolas,'Courier New',monospace\">Simulation completed after <span style=\"color: #008080; text-decoration-color: #008080; font-weight: bold\">3070</span> iterations.\n",
       "<span style=\"color: #800000; text-decoration-color: #800000; font-weight: bold\">File: RiMEA_Test_1.sqlite</span>\n",
       "</pre>\n"
      ],
      "text/plain": [
       "Simulation completed after \u001b[1;36m3070\u001b[0m iterations.\n",
       "\u001b[1;31mFile: RiMEA_Test_1.sqlite\u001b[0m\n"
      ]
     },
     "metadata": {},
     "output_type": "display_data"
    }
   ],
   "source": [
    "import sys\n",
    "\n",
    "\n",
    "console = Console()\n",
    "trajectory_file = \"RiMEA_Test_1.sqlite\"\n",
    "\n",
    "corridor = shapely.Polygon([(0, 0), (42, 0), (42, 2), (0, 2)])\n",
    "exit_polygon = shapely.Polygon([(41,0), (42,0), (42,2), (41,2)])\n",
    "\n",
    "agent_speed = 1.33  # m/sec\n",
    "body_dimension = 0.4  # m\n",
    "premovement_time = 1.0  # sec\n",
    "\n",
    "\n",
    "filename = f\"RiMEA_Test_1.sqlite\"\n",
    "simulation_cfsm = jps.Simulation(\n",
    "    model=jps.CollisionFreeSpeedModel(),\n",
    "    geometry=corridor,\n",
    "    trajectory_writer=jps.SqliteTrajectoryWriter(\n",
    "        output_file=pathlib.Path(filename),\n",
    "    ),\n",
    ")\n",
    "exit_id = simulation_cfsm.add_exit_stage(exit_polygon)\n",
    "journey = jps.JourneyDescription([exit_id])\n",
    "journey_id = simulation_cfsm.add_journey(journey)   \n",
    "\n",
    "\n",
    "number_agents = 1\n",
    "\n",
    "simulation_cfsm.add_agent(\n",
    "    jps.CollisionFreeSpeedModelAgentParameters(\n",
    "        v0 = 1.33,\n",
    "        journey_id=journey_id,\n",
    "        stage_id=exit_id,\n",
    "        position = (0.2, 1.0), \n",
    "        radius = body_dimension / 2,\n",
    "\n",
    "    )\n",
    ")\n",
    "\n",
    "\n",
    "with Progress() as progress:\n",
    "    task = progress.add_task(\n",
    "        \"[cyan]Running simulation...\"\n",
    "    )\n",
    "while simulation_cfsm.agent_count() > 0:\n",
    "    try:\n",
    "        simulation_cfsm.iterate()\n",
    "        time = simulation_cfsm.elapsed_time()\n",
    "        \n",
    "    except KeyboardInterrupt:\n",
    "            print(\"CTRL-C Recieved! Shuting down\")\n",
    "            sys.exit(1)\n",
    "print(f\"Elapsed time is {time} seconds.\")\n",
    "console.print(\n",
    "    f\"Simulation completed after {simulation_cfsm.iteration_count()} iterations.\\n\"\n",
    "    f\"[bold red]File: {filename}\")\n",
    "\n",
    "#if __name__ == \"__main__\":\n",
    " #   main()\n",
    "  #  trajectory_data, walkable_area = read_sqlite_file(trajectory_file)\n",
    "   # animate(trajectory_data, walkable_area)\n"
   ]
  },
  {
   "cell_type": "markdown",
   "id": "8cd7cae2",
   "metadata": {},
   "source": [
    "# Visualizing the Trajectory"
   ]
  },
  {
   "cell_type": "code",
   "execution_count": 7,
   "id": "a1c05f1d",
   "metadata": {
    "scrolled": true
   },
   "outputs": [
    {
     "data": {
      "application/vnd.plotly.v1+json": {
       "config": {
        "plotlyServerURL": "https://plot.ly"
       },
       "data": [
        {
         "hoverinfo": "name",
         "line": {
          "color": "grey"
         },
         "mode": "lines",
         "name": "Exterior",
         "showlegend": false,
         "type": "scatter",
         "x": [
          0,
          0,
          42,
          42,
          0
         ],
         "y": [
          2,
          0,
          0,
          2,
          2
         ]
        },
        {
         "hoverinfo": "none",
         "marker": {
          "cmax": 1.3300000000000978,
          "cmin": 0,
          "color": [
           1.3299999999999983
          ],
          "colorbar": {
           "title": {
            "text": "Speed [m/s]"
           }
          },
          "colorscale": [
           [
            0,
            "rgb(128,0,0)"
           ],
           [
            0.2,
            "rgb(250,0,0)"
           ],
           [
            0.4,
            "rgb(255,255,0)"
           ],
           [
            0.6,
            "rgb(5,255,255)"
           ],
           [
            0.8,
            "rgb(0,60,170)"
           ],
           [
            1,
            "rgb(0,0,131)"
           ]
          ],
          "size": [
           0.4
          ]
         },
         "mode": "markers",
         "showlegend": false,
         "text": [
          1.3299999999999983
         ],
         "type": "scatter",
         "x": [
          0.2
         ],
         "y": [
          1
         ]
        },
        {
         "hoverinfo": "text",
         "marker": {
          "opacity": 1,
          "size": 1
         },
         "mode": "markers",
         "showlegend": false,
         "text": [
          "ID: 1, Pos(0.20,1.00)"
         ],
         "type": "scatter",
         "x": [
          0.2
         ],
         "y": [
          1
         ]
        }
       ],
       "frames": [
        {
         "data": [
          {
           "hoverinfo": "name",
           "line": {
            "color": "grey"
           },
           "mode": "lines",
           "name": "Exterior",
           "showlegend": false,
           "type": "scatter",
           "x": [
            0,
            0,
            42,
            42,
            0
           ],
           "y": [
            2,
            0,
            0,
            2,
            2
           ]
          },
          {
           "hoverinfo": "text",
           "marker": {
            "opacity": 1,
            "size": 1
           },
           "mode": "markers",
           "showlegend": false,
           "text": [
            "ID: 1, Pos(0.20,1.00)"
           ],
           "type": "scatter",
           "x": [
            0.2
           ],
           "y": [
            1
           ]
          }
         ],
         "layout": {
          "shapes": [
           {
            "fillcolor": "rgba(173, 255, 73, 0.5)",
            "line": {
             "color": "rgba(173, 255, 73, 0.5)"
            },
            "type": "circle",
            "x0": 0,
            "x1": 0.4,
            "xref": "x",
            "y0": 0.8,
            "y1": 1.2,
            "yref": "y"
           },
           {
            "line": {
             "color": "black",
             "width": 3
            },
            "type": "line",
            "x0": 0.2,
            "x1": 0.2,
            "y0": 1,
            "y1": 1
           }
          ],
          "title": {
           "text": "<b>Number of Agents: 1</b>",
           "x": 0.5
          }
         },
         "name": "0"
        },
        {
         "data": [
          {
           "hoverinfo": "name",
           "line": {
            "color": "grey"
           },
           "mode": "lines",
           "name": "Exterior",
           "showlegend": false,
           "type": "scatter",
           "x": [
            0,
            0,
            42,
            42,
            0
           ],
           "y": [
            2,
            0,
            0,
            2,
            2
           ]
          },
          {
           "hoverinfo": "text",
           "marker": {
            "opacity": 1,
            "size": 1
           },
           "mode": "markers",
           "showlegend": false,
           "text": [
            "ID: 1, Pos(2.86,1.00)"
           ],
           "type": "scatter",
           "x": [
            2.8600000000000114
           ],
           "y": [
            1
           ]
          }
         ],
         "layout": {
          "shapes": [
           {
            "fillcolor": "rgba(122, 255, 125, 0.5)",
            "line": {
             "color": "rgba(122, 255, 125, 0.5)"
            },
            "type": "circle",
            "x0": 2.6600000000000112,
            "x1": 3.0600000000000116,
            "xref": "x",
            "y0": 0.8,
            "y1": 1.2,
            "yref": "y"
           },
           {
            "line": {
             "color": "black",
             "width": 3
            },
            "type": "line",
            "x0": 2.8600000000000114,
            "x1": 3.0600000000000116,
            "y0": 1,
            "y1": 1
           }
          ],
          "title": {
           "text": "<b>Number of Agents: 1</b>",
           "x": 0.5
          }
         },
         "name": "50"
        },
        {
         "data": [
          {
           "hoverinfo": "name",
           "line": {
            "color": "grey"
           },
           "mode": "lines",
           "name": "Exterior",
           "showlegend": false,
           "type": "scatter",
           "x": [
            0,
            0,
            42,
            42,
            0
           ],
           "y": [
            2,
            0,
            0,
            2,
            2
           ]
          },
          {
           "hoverinfo": "text",
           "marker": {
            "opacity": 1,
            "size": 1
           },
           "mode": "markers",
           "showlegend": false,
           "text": [
            "ID: 1, Pos(5.52,1.00)"
           ],
           "type": "scatter",
           "x": [
            5.520000000000029
           ],
           "y": [
            1
           ]
          }
         ],
         "layout": {
          "shapes": [
           {
            "fillcolor": "rgba(122, 255, 125, 0.5)",
            "line": {
             "color": "rgba(122, 255, 125, 0.5)"
            },
            "type": "circle",
            "x0": 5.320000000000029,
            "x1": 5.720000000000029,
            "xref": "x",
            "y0": 0.8,
            "y1": 1.2,
            "yref": "y"
           },
           {
            "line": {
             "color": "black",
             "width": 3
            },
            "type": "line",
            "x0": 5.520000000000029,
            "x1": 5.720000000000029,
            "y0": 1,
            "y1": 1
           }
          ],
          "title": {
           "text": "<b>Number of Agents: 1</b>",
           "x": 0.5
          }
         },
         "name": "100"
        },
        {
         "data": [
          {
           "hoverinfo": "name",
           "line": {
            "color": "grey"
           },
           "mode": "lines",
           "name": "Exterior",
           "showlegend": false,
           "type": "scatter",
           "x": [
            0,
            0,
            42,
            42,
            0
           ],
           "y": [
            2,
            0,
            0,
            2,
            2
           ]
          },
          {
           "hoverinfo": "text",
           "marker": {
            "opacity": 1,
            "size": 1
           },
           "mode": "markers",
           "showlegend": false,
           "text": [
            "ID: 1, Pos(8.18,1.00)"
           ],
           "type": "scatter",
           "x": [
            8.180000000000035
           ],
           "y": [
            1
           ]
          }
         ],
         "layout": {
          "shapes": [
           {
            "fillcolor": "rgba(228, 0, 0, 0.5)",
            "line": {
             "color": "rgba(228, 0, 0, 0.5)"
            },
            "type": "circle",
            "x0": 7.980000000000035,
            "x1": 8.380000000000035,
            "xref": "x",
            "y0": 0.8,
            "y1": 1.2,
            "yref": "y"
           },
           {
            "line": {
             "color": "white",
             "width": 3
            },
            "type": "line",
            "x0": 8.180000000000035,
            "x1": 8.380000000000035,
            "y0": 1,
            "y1": 1
           }
          ],
          "title": {
           "text": "<b>Number of Agents: 1</b>",
           "x": 0.5
          }
         },
         "name": "150"
        },
        {
         "data": [
          {
           "hoverinfo": "name",
           "line": {
            "color": "grey"
           },
           "mode": "lines",
           "name": "Exterior",
           "showlegend": false,
           "type": "scatter",
           "x": [
            0,
            0,
            42,
            42,
            0
           ],
           "y": [
            2,
            0,
            0,
            2,
            2
           ]
          },
          {
           "hoverinfo": "text",
           "marker": {
            "opacity": 1,
            "size": 1
           },
           "mode": "markers",
           "showlegend": false,
           "text": [
            "ID: 1, Pos(10.84,1.00)"
           ],
           "type": "scatter",
           "x": [
            10.839999999999876
           ],
           "y": [
            1
           ]
          }
         ],
         "layout": {
          "shapes": [
           {
            "fillcolor": "rgba(128, 0, 0, 0.5)",
            "line": {
             "color": "rgba(128, 0, 0, 0.5)"
            },
            "type": "circle",
            "x0": 10.639999999999876,
            "x1": 11.039999999999875,
            "xref": "x",
            "y0": 0.8,
            "y1": 1.2,
            "yref": "y"
           },
           {
            "line": {
             "color": "white",
             "width": 3
            },
            "type": "line",
            "x0": 10.839999999999876,
            "x1": 11.039999999999875,
            "y0": 1,
            "y1": 1
           }
          ],
          "title": {
           "text": "<b>Number of Agents: 1</b>",
           "x": 0.5
          }
         },
         "name": "200"
        },
        {
         "data": [
          {
           "hoverinfo": "name",
           "line": {
            "color": "grey"
           },
           "mode": "lines",
           "name": "Exterior",
           "showlegend": false,
           "type": "scatter",
           "x": [
            0,
            0,
            42,
            42,
            0
           ],
           "y": [
            2,
            0,
            0,
            2,
            2
           ]
          },
          {
           "hoverinfo": "text",
           "marker": {
            "opacity": 1,
            "size": 1
           },
           "mode": "markers",
           "showlegend": false,
           "text": [
            "ID: 1, Pos(13.50,1.00)"
           ],
           "type": "scatter",
           "x": [
            13.499999999999716
           ],
           "y": [
            1
           ]
          }
         ],
         "layout": {
          "shapes": [
           {
            "fillcolor": "rgba(128, 0, 0, 0.5)",
            "line": {
             "color": "rgba(128, 0, 0, 0.5)"
            },
            "type": "circle",
            "x0": 13.299999999999716,
            "x1": 13.699999999999715,
            "xref": "x",
            "y0": 0.8,
            "y1": 1.2,
            "yref": "y"
           },
           {
            "line": {
             "color": "white",
             "width": 3
            },
            "type": "line",
            "x0": 13.499999999999716,
            "x1": 13.699999999999715,
            "y0": 1,
            "y1": 1
           }
          ],
          "title": {
           "text": "<b>Number of Agents: 1</b>",
           "x": 0.5
          }
         },
         "name": "250"
        },
        {
         "data": [
          {
           "hoverinfo": "name",
           "line": {
            "color": "grey"
           },
           "mode": "lines",
           "name": "Exterior",
           "showlegend": false,
           "type": "scatter",
           "x": [
            0,
            0,
            42,
            42,
            0
           ],
           "y": [
            2,
            0,
            0,
            2,
            2
           ]
          },
          {
           "hoverinfo": "text",
           "marker": {
            "opacity": 1,
            "size": 1
           },
           "mode": "markers",
           "showlegend": false,
           "text": [
            "ID: 1, Pos(16.16,1.00)"
           ],
           "type": "scatter",
           "x": [
            16.159999999999577
           ],
           "y": [
            1
           ]
          }
         ],
         "layout": {
          "shapes": [
           {
            "fillcolor": "rgba(0, 77, 255, 0.5)",
            "line": {
             "color": "rgba(0, 77, 255, 0.5)"
            },
            "type": "circle",
            "x0": 15.959999999999578,
            "x1": 16.359999999999577,
            "xref": "x",
            "y0": 0.8,
            "y1": 1.2,
            "yref": "y"
           },
           {
            "line": {
             "color": "white",
             "width": 3
            },
            "type": "line",
            "x0": 16.159999999999577,
            "x1": 16.359999999999577,
            "y0": 1,
            "y1": 1
           }
          ],
          "title": {
           "text": "<b>Number of Agents: 1</b>",
           "x": 0.5
          }
         },
         "name": "300"
        },
        {
         "data": [
          {
           "hoverinfo": "name",
           "line": {
            "color": "grey"
           },
           "mode": "lines",
           "name": "Exterior",
           "showlegend": false,
           "type": "scatter",
           "x": [
            0,
            0,
            42,
            42,
            0
           ],
           "y": [
            2,
            0,
            0,
            2,
            2
           ]
          },
          {
           "hoverinfo": "text",
           "marker": {
            "opacity": 1,
            "size": 1
           },
           "mode": "markers",
           "showlegend": false,
           "text": [
            "ID: 1, Pos(18.82,1.00)"
           ],
           "type": "scatter",
           "x": [
            18.819999999999773
           ],
           "y": [
            1
           ]
          }
         ],
         "layout": {
          "shapes": [
           {
            "fillcolor": "rgba(0, 0, 128, 0.5)",
            "line": {
             "color": "rgba(0, 0, 128, 0.5)"
            },
            "type": "circle",
            "x0": 18.619999999999774,
            "x1": 19.019999999999772,
            "xref": "x",
            "y0": 0.8,
            "y1": 1.2,
            "yref": "y"
           },
           {
            "line": {
             "color": "white",
             "width": 3
            },
            "type": "line",
            "x0": 18.819999999999773,
            "x1": 19.019999999999772,
            "y0": 1,
            "y1": 1
           }
          ],
          "title": {
           "text": "<b>Number of Agents: 1</b>",
           "x": 0.5
          }
         },
         "name": "350"
        },
        {
         "data": [
          {
           "hoverinfo": "name",
           "line": {
            "color": "grey"
           },
           "mode": "lines",
           "name": "Exterior",
           "showlegend": false,
           "type": "scatter",
           "x": [
            0,
            0,
            42,
            42,
            0
           ],
           "y": [
            2,
            0,
            0,
            2,
            2
           ]
          },
          {
           "hoverinfo": "text",
           "marker": {
            "opacity": 1,
            "size": 1
           },
           "mode": "markers",
           "showlegend": false,
           "text": [
            "ID: 1, Pos(21.48,1.00)"
           ],
           "type": "scatter",
           "x": [
            21.47999999999997
           ],
           "y": [
            1
           ]
          }
         ],
         "layout": {
          "shapes": [
           {
            "fillcolor": "rgba(0, 0, 128, 0.5)",
            "line": {
             "color": "rgba(0, 0, 128, 0.5)"
            },
            "type": "circle",
            "x0": 21.27999999999997,
            "x1": 21.679999999999968,
            "xref": "x",
            "y0": 0.8,
            "y1": 1.2,
            "yref": "y"
           },
           {
            "line": {
             "color": "white",
             "width": 3
            },
            "type": "line",
            "x0": 21.47999999999997,
            "x1": 21.679999999999968,
            "y0": 1,
            "y1": 1
           }
          ],
          "title": {
           "text": "<b>Number of Agents: 1</b>",
           "x": 0.5
          }
         },
         "name": "400"
        },
        {
         "data": [
          {
           "hoverinfo": "name",
           "line": {
            "color": "grey"
           },
           "mode": "lines",
           "name": "Exterior",
           "showlegend": false,
           "type": "scatter",
           "x": [
            0,
            0,
            42,
            42,
            0
           ],
           "y": [
            2,
            0,
            0,
            2,
            2
           ]
          },
          {
           "hoverinfo": "text",
           "marker": {
            "opacity": 1,
            "size": 1
           },
           "mode": "markers",
           "showlegend": false,
           "text": [
            "ID: 1, Pos(24.14,1.00)"
           ],
           "type": "scatter",
           "x": [
            24.140000000000164
           ],
           "y": [
            1
           ]
          }
         ],
         "layout": {
          "shapes": [
           {
            "fillcolor": "rgba(0, 0, 128, 0.5)",
            "line": {
             "color": "rgba(0, 0, 128, 0.5)"
            },
            "type": "circle",
            "x0": 23.940000000000165,
            "x1": 24.340000000000163,
            "xref": "x",
            "y0": 0.8,
            "y1": 1.2,
            "yref": "y"
           },
           {
            "line": {
             "color": "white",
             "width": 3
            },
            "type": "line",
            "x0": 24.140000000000164,
            "x1": 24.340000000000163,
            "y0": 1,
            "y1": 1
           }
          ],
          "title": {
           "text": "<b>Number of Agents: 1</b>",
           "x": 0.5
          }
         },
         "name": "450"
        },
        {
         "data": [
          {
           "hoverinfo": "name",
           "line": {
            "color": "grey"
           },
           "mode": "lines",
           "name": "Exterior",
           "showlegend": false,
           "type": "scatter",
           "x": [
            0,
            0,
            42,
            42,
            0
           ],
           "y": [
            2,
            0,
            0,
            2,
            2
           ]
          },
          {
           "hoverinfo": "text",
           "marker": {
            "opacity": 1,
            "size": 1
           },
           "mode": "markers",
           "showlegend": false,
           "text": [
            "ID: 1, Pos(26.80,1.00)"
           ],
           "type": "scatter",
           "x": [
            26.80000000000036
           ],
           "y": [
            1
           ]
          }
         ],
         "layout": {
          "shapes": [
           {
            "fillcolor": "rgba(0, 0, 128, 0.5)",
            "line": {
             "color": "rgba(0, 0, 128, 0.5)"
            },
            "type": "circle",
            "x0": 26.60000000000036,
            "x1": 27.00000000000036,
            "xref": "x",
            "y0": 0.8,
            "y1": 1.2,
            "yref": "y"
           },
           {
            "line": {
             "color": "white",
             "width": 3
            },
            "type": "line",
            "x0": 26.80000000000036,
            "x1": 27.00000000000036,
            "y0": 1,
            "y1": 1
           }
          ],
          "title": {
           "text": "<b>Number of Agents: 1</b>",
           "x": 0.5
          }
         },
         "name": "500"
        },
        {
         "data": [
          {
           "hoverinfo": "name",
           "line": {
            "color": "grey"
           },
           "mode": "lines",
           "name": "Exterior",
           "showlegend": false,
           "type": "scatter",
           "x": [
            0,
            0,
            42,
            42,
            0
           ],
           "y": [
            2,
            0,
            0,
            2,
            2
           ]
          },
          {
           "hoverinfo": "text",
           "marker": {
            "opacity": 1,
            "size": 1
           },
           "mode": "markers",
           "showlegend": false,
           "text": [
            "ID: 1, Pos(29.46,1.00)"
           ],
           "type": "scatter",
           "x": [
            29.460000000000555
           ],
           "y": [
            1
           ]
          }
         ],
         "layout": {
          "shapes": [
           {
            "fillcolor": "rgba(0, 0, 128, 0.5)",
            "line": {
             "color": "rgba(0, 0, 128, 0.5)"
            },
            "type": "circle",
            "x0": 29.260000000000556,
            "x1": 29.660000000000554,
            "xref": "x",
            "y0": 0.8,
            "y1": 1.2,
            "yref": "y"
           },
           {
            "line": {
             "color": "white",
             "width": 3
            },
            "type": "line",
            "x0": 29.460000000000555,
            "x1": 29.660000000000554,
            "y0": 1,
            "y1": 1
           }
          ],
          "title": {
           "text": "<b>Number of Agents: 1</b>",
           "x": 0.5
          }
         },
         "name": "550"
        },
        {
         "data": [
          {
           "hoverinfo": "name",
           "line": {
            "color": "grey"
           },
           "mode": "lines",
           "name": "Exterior",
           "showlegend": false,
           "type": "scatter",
           "x": [
            0,
            0,
            42,
            42,
            0
           ],
           "y": [
            2,
            0,
            0,
            2,
            2
           ]
          },
          {
           "hoverinfo": "text",
           "marker": {
            "opacity": 1,
            "size": 1
           },
           "mode": "markers",
           "showlegend": false,
           "text": [
            "ID: 1, Pos(32.12,1.00)"
           ],
           "type": "scatter",
           "x": [
            32.12000000000075
           ],
           "y": [
            1
           ]
          }
         ],
         "layout": {
          "shapes": [
           {
            "fillcolor": "rgba(0, 0, 128, 0.5)",
            "line": {
             "color": "rgba(0, 0, 128, 0.5)"
            },
            "type": "circle",
            "x0": 31.92000000000075,
            "x1": 32.32000000000075,
            "xref": "x",
            "y0": 0.8,
            "y1": 1.2,
            "yref": "y"
           },
           {
            "line": {
             "color": "white",
             "width": 3
            },
            "type": "line",
            "x0": 32.12000000000075,
            "x1": 32.32000000000075,
            "y0": 1,
            "y1": 1
           }
          ],
          "title": {
           "text": "<b>Number of Agents: 1</b>",
           "x": 0.5
          }
         },
         "name": "600"
        },
        {
         "data": [
          {
           "hoverinfo": "name",
           "line": {
            "color": "grey"
           },
           "mode": "lines",
           "name": "Exterior",
           "showlegend": false,
           "type": "scatter",
           "x": [
            0,
            0,
            42,
            42,
            0
           ],
           "y": [
            2,
            0,
            0,
            2,
            2
           ]
          },
          {
           "hoverinfo": "text",
           "marker": {
            "opacity": 1,
            "size": 1
           },
           "mode": "markers",
           "showlegend": false,
           "text": [
            "ID: 1, Pos(34.78,1.00)"
           ],
           "type": "scatter",
           "x": [
            34.780000000000946
           ],
           "y": [
            1
           ]
          }
         ],
         "layout": {
          "shapes": [
           {
            "fillcolor": "rgba(0, 0, 128, 0.5)",
            "line": {
             "color": "rgba(0, 0, 128, 0.5)"
            },
            "type": "circle",
            "x0": 34.58000000000094,
            "x1": 34.98000000000095,
            "xref": "x",
            "y0": 0.8,
            "y1": 1.2,
            "yref": "y"
           },
           {
            "line": {
             "color": "white",
             "width": 3
            },
            "type": "line",
            "x0": 34.780000000000946,
            "x1": 34.98000000000095,
            "y0": 1,
            "y1": 1
           }
          ],
          "title": {
           "text": "<b>Number of Agents: 1</b>",
           "x": 0.5
          }
         },
         "name": "650"
        },
        {
         "data": [
          {
           "hoverinfo": "name",
           "line": {
            "color": "grey"
           },
           "mode": "lines",
           "name": "Exterior",
           "showlegend": false,
           "type": "scatter",
           "x": [
            0,
            0,
            42,
            42,
            0
           ],
           "y": [
            2,
            0,
            0,
            2,
            2
           ]
          },
          {
           "hoverinfo": "text",
           "marker": {
            "opacity": 1,
            "size": 1
           },
           "mode": "markers",
           "showlegend": false,
           "text": [
            "ID: 1, Pos(37.44,1.00)"
           ],
           "type": "scatter",
           "x": [
            37.44000000000114
           ],
           "y": [
            1
           ]
          }
         ],
         "layout": {
          "shapes": [
           {
            "fillcolor": "rgba(0, 0, 128, 0.5)",
            "line": {
             "color": "rgba(0, 0, 128, 0.5)"
            },
            "type": "circle",
            "x0": 37.24000000000114,
            "x1": 37.640000000001145,
            "xref": "x",
            "y0": 0.8,
            "y1": 1.2,
            "yref": "y"
           },
           {
            "line": {
             "color": "white",
             "width": 3
            },
            "type": "line",
            "x0": 37.44000000000114,
            "x1": 37.640000000001145,
            "y0": 1,
            "y1": 1
           }
          ],
          "title": {
           "text": "<b>Number of Agents: 1</b>",
           "x": 0.5
          }
         },
         "name": "700"
        },
        {
         "data": [
          {
           "hoverinfo": "name",
           "line": {
            "color": "grey"
           },
           "mode": "lines",
           "name": "Exterior",
           "showlegend": false,
           "type": "scatter",
           "x": [
            0,
            0,
            42,
            42,
            0
           ],
           "y": [
            2,
            0,
            0,
            2,
            2
           ]
          },
          {
           "hoverinfo": "text",
           "marker": {
            "opacity": 1,
            "size": 1
           },
           "mode": "markers",
           "showlegend": false,
           "text": [
            "ID: 1, Pos(40.10,1.00)"
           ],
           "type": "scatter",
           "x": [
            40.10000000000134
           ],
           "y": [
            1
           ]
          }
         ],
         "layout": {
          "shapes": [
           {
            "fillcolor": "rgba(0, 0, 128, 0.5)",
            "line": {
             "color": "rgba(0, 0, 128, 0.5)"
            },
            "type": "circle",
            "x0": 39.900000000001334,
            "x1": 40.30000000000134,
            "xref": "x",
            "y0": 0.8,
            "y1": 1.2,
            "yref": "y"
           },
           {
            "line": {
             "color": "white",
             "width": 3
            },
            "type": "line",
            "x0": 40.10000000000134,
            "x1": 40.30000000000134,
            "y0": 1,
            "y1": 1
           }
          ],
          "title": {
           "text": "<b>Number of Agents: 1</b>",
           "x": 0.5
          }
         },
         "name": "750"
        }
       ],
       "layout": {
        "autosize": false,
        "height": 800,
        "shapes": [
         {
          "fillcolor": "rgba(173, 255, 73, 0.5)",
          "line": {
           "color": "rgba(173, 255, 73, 0.5)"
          },
          "type": "circle",
          "x0": 0,
          "x1": 0.4,
          "xref": "x",
          "y0": 0.8,
          "y1": 1.2,
          "yref": "y"
         },
         {
          "line": {
           "color": "black",
           "width": 3
          },
          "type": "line",
          "x0": 0.2,
          "x1": 0.2,
          "y0": 1,
          "y1": 1
         }
        ],
        "sliders": [
         {
          "active": 0,
          "currentvalue": {
           "font": {
            "size": 20
           },
           "prefix": "Frame:",
           "visible": true,
           "xanchor": "right"
          },
          "len": 0.9,
          "pad": {
           "b": 10,
           "t": 50
          },
          "steps": [
           {
            "args": [
             [
              "0"
             ],
             {
              "frame": {
               "duration": 100,
               "redraw": true
              },
              "mode": "immediate",
              "transition": {
               "duration": 500
              }
             }
            ],
            "label": "0",
            "method": "animate"
           },
           {
            "args": [
             [
              "50"
             ],
             {
              "frame": {
               "duration": 100,
               "redraw": true
              },
              "mode": "immediate",
              "transition": {
               "duration": 500
              }
             }
            ],
            "label": "50",
            "method": "animate"
           },
           {
            "args": [
             [
              "100"
             ],
             {
              "frame": {
               "duration": 100,
               "redraw": true
              },
              "mode": "immediate",
              "transition": {
               "duration": 500
              }
             }
            ],
            "label": "100",
            "method": "animate"
           },
           {
            "args": [
             [
              "150"
             ],
             {
              "frame": {
               "duration": 100,
               "redraw": true
              },
              "mode": "immediate",
              "transition": {
               "duration": 500
              }
             }
            ],
            "label": "150",
            "method": "animate"
           },
           {
            "args": [
             [
              "200"
             ],
             {
              "frame": {
               "duration": 100,
               "redraw": true
              },
              "mode": "immediate",
              "transition": {
               "duration": 500
              }
             }
            ],
            "label": "200",
            "method": "animate"
           },
           {
            "args": [
             [
              "250"
             ],
             {
              "frame": {
               "duration": 100,
               "redraw": true
              },
              "mode": "immediate",
              "transition": {
               "duration": 500
              }
             }
            ],
            "label": "250",
            "method": "animate"
           },
           {
            "args": [
             [
              "300"
             ],
             {
              "frame": {
               "duration": 100,
               "redraw": true
              },
              "mode": "immediate",
              "transition": {
               "duration": 500
              }
             }
            ],
            "label": "300",
            "method": "animate"
           },
           {
            "args": [
             [
              "350"
             ],
             {
              "frame": {
               "duration": 100,
               "redraw": true
              },
              "mode": "immediate",
              "transition": {
               "duration": 500
              }
             }
            ],
            "label": "350",
            "method": "animate"
           },
           {
            "args": [
             [
              "400"
             ],
             {
              "frame": {
               "duration": 100,
               "redraw": true
              },
              "mode": "immediate",
              "transition": {
               "duration": 500
              }
             }
            ],
            "label": "400",
            "method": "animate"
           },
           {
            "args": [
             [
              "450"
             ],
             {
              "frame": {
               "duration": 100,
               "redraw": true
              },
              "mode": "immediate",
              "transition": {
               "duration": 500
              }
             }
            ],
            "label": "450",
            "method": "animate"
           },
           {
            "args": [
             [
              "500"
             ],
             {
              "frame": {
               "duration": 100,
               "redraw": true
              },
              "mode": "immediate",
              "transition": {
               "duration": 500
              }
             }
            ],
            "label": "500",
            "method": "animate"
           },
           {
            "args": [
             [
              "550"
             ],
             {
              "frame": {
               "duration": 100,
               "redraw": true
              },
              "mode": "immediate",
              "transition": {
               "duration": 500
              }
             }
            ],
            "label": "550",
            "method": "animate"
           },
           {
            "args": [
             [
              "600"
             ],
             {
              "frame": {
               "duration": 100,
               "redraw": true
              },
              "mode": "immediate",
              "transition": {
               "duration": 500
              }
             }
            ],
            "label": "600",
            "method": "animate"
           },
           {
            "args": [
             [
              "650"
             ],
             {
              "frame": {
               "duration": 100,
               "redraw": true
              },
              "mode": "immediate",
              "transition": {
               "duration": 500
              }
             }
            ],
            "label": "650",
            "method": "animate"
           },
           {
            "args": [
             [
              "700"
             ],
             {
              "frame": {
               "duration": 100,
               "redraw": true
              },
              "mode": "immediate",
              "transition": {
               "duration": 500
              }
             }
            ],
            "label": "700",
            "method": "animate"
           },
           {
            "args": [
             [
              "750"
             ],
             {
              "frame": {
               "duration": 100,
               "redraw": true
              },
              "mode": "immediate",
              "transition": {
               "duration": 500
              }
             }
            ],
            "label": "750",
            "method": "animate"
           }
          ],
          "transition": {
           "duration": 100,
           "easing": "cubic-in-out"
          },
          "x": 0.1,
          "xanchor": "left",
          "y": 0,
          "yanchor": "top"
         }
        ],
        "template": {
         "data": {
          "bar": [
           {
            "error_x": {
             "color": "#2a3f5f"
            },
            "error_y": {
             "color": "#2a3f5f"
            },
            "marker": {
             "line": {
              "color": "#E5ECF6",
              "width": 0.5
             },
             "pattern": {
              "fillmode": "overlay",
              "size": 10,
              "solidity": 0.2
             }
            },
            "type": "bar"
           }
          ],
          "barpolar": [
           {
            "marker": {
             "line": {
              "color": "#E5ECF6",
              "width": 0.5
             },
             "pattern": {
              "fillmode": "overlay",
              "size": 10,
              "solidity": 0.2
             }
            },
            "type": "barpolar"
           }
          ],
          "carpet": [
           {
            "aaxis": {
             "endlinecolor": "#2a3f5f",
             "gridcolor": "white",
             "linecolor": "white",
             "minorgridcolor": "white",
             "startlinecolor": "#2a3f5f"
            },
            "baxis": {
             "endlinecolor": "#2a3f5f",
             "gridcolor": "white",
             "linecolor": "white",
             "minorgridcolor": "white",
             "startlinecolor": "#2a3f5f"
            },
            "type": "carpet"
           }
          ],
          "choropleth": [
           {
            "colorbar": {
             "outlinewidth": 0,
             "ticks": ""
            },
            "type": "choropleth"
           }
          ],
          "contour": [
           {
            "colorbar": {
             "outlinewidth": 0,
             "ticks": ""
            },
            "colorscale": [
             [
              0,
              "#0d0887"
             ],
             [
              0.1111111111111111,
              "#46039f"
             ],
             [
              0.2222222222222222,
              "#7201a8"
             ],
             [
              0.3333333333333333,
              "#9c179e"
             ],
             [
              0.4444444444444444,
              "#bd3786"
             ],
             [
              0.5555555555555556,
              "#d8576b"
             ],
             [
              0.6666666666666666,
              "#ed7953"
             ],
             [
              0.7777777777777778,
              "#fb9f3a"
             ],
             [
              0.8888888888888888,
              "#fdca26"
             ],
             [
              1,
              "#f0f921"
             ]
            ],
            "type": "contour"
           }
          ],
          "contourcarpet": [
           {
            "colorbar": {
             "outlinewidth": 0,
             "ticks": ""
            },
            "type": "contourcarpet"
           }
          ],
          "heatmap": [
           {
            "colorbar": {
             "outlinewidth": 0,
             "ticks": ""
            },
            "colorscale": [
             [
              0,
              "#0d0887"
             ],
             [
              0.1111111111111111,
              "#46039f"
             ],
             [
              0.2222222222222222,
              "#7201a8"
             ],
             [
              0.3333333333333333,
              "#9c179e"
             ],
             [
              0.4444444444444444,
              "#bd3786"
             ],
             [
              0.5555555555555556,
              "#d8576b"
             ],
             [
              0.6666666666666666,
              "#ed7953"
             ],
             [
              0.7777777777777778,
              "#fb9f3a"
             ],
             [
              0.8888888888888888,
              "#fdca26"
             ],
             [
              1,
              "#f0f921"
             ]
            ],
            "type": "heatmap"
           }
          ],
          "heatmapgl": [
           {
            "colorbar": {
             "outlinewidth": 0,
             "ticks": ""
            },
            "colorscale": [
             [
              0,
              "#0d0887"
             ],
             [
              0.1111111111111111,
              "#46039f"
             ],
             [
              0.2222222222222222,
              "#7201a8"
             ],
             [
              0.3333333333333333,
              "#9c179e"
             ],
             [
              0.4444444444444444,
              "#bd3786"
             ],
             [
              0.5555555555555556,
              "#d8576b"
             ],
             [
              0.6666666666666666,
              "#ed7953"
             ],
             [
              0.7777777777777778,
              "#fb9f3a"
             ],
             [
              0.8888888888888888,
              "#fdca26"
             ],
             [
              1,
              "#f0f921"
             ]
            ],
            "type": "heatmapgl"
           }
          ],
          "histogram": [
           {
            "marker": {
             "pattern": {
              "fillmode": "overlay",
              "size": 10,
              "solidity": 0.2
             }
            },
            "type": "histogram"
           }
          ],
          "histogram2d": [
           {
            "colorbar": {
             "outlinewidth": 0,
             "ticks": ""
            },
            "colorscale": [
             [
              0,
              "#0d0887"
             ],
             [
              0.1111111111111111,
              "#46039f"
             ],
             [
              0.2222222222222222,
              "#7201a8"
             ],
             [
              0.3333333333333333,
              "#9c179e"
             ],
             [
              0.4444444444444444,
              "#bd3786"
             ],
             [
              0.5555555555555556,
              "#d8576b"
             ],
             [
              0.6666666666666666,
              "#ed7953"
             ],
             [
              0.7777777777777778,
              "#fb9f3a"
             ],
             [
              0.8888888888888888,
              "#fdca26"
             ],
             [
              1,
              "#f0f921"
             ]
            ],
            "type": "histogram2d"
           }
          ],
          "histogram2dcontour": [
           {
            "colorbar": {
             "outlinewidth": 0,
             "ticks": ""
            },
            "colorscale": [
             [
              0,
              "#0d0887"
             ],
             [
              0.1111111111111111,
              "#46039f"
             ],
             [
              0.2222222222222222,
              "#7201a8"
             ],
             [
              0.3333333333333333,
              "#9c179e"
             ],
             [
              0.4444444444444444,
              "#bd3786"
             ],
             [
              0.5555555555555556,
              "#d8576b"
             ],
             [
              0.6666666666666666,
              "#ed7953"
             ],
             [
              0.7777777777777778,
              "#fb9f3a"
             ],
             [
              0.8888888888888888,
              "#fdca26"
             ],
             [
              1,
              "#f0f921"
             ]
            ],
            "type": "histogram2dcontour"
           }
          ],
          "mesh3d": [
           {
            "colorbar": {
             "outlinewidth": 0,
             "ticks": ""
            },
            "type": "mesh3d"
           }
          ],
          "parcoords": [
           {
            "line": {
             "colorbar": {
              "outlinewidth": 0,
              "ticks": ""
             }
            },
            "type": "parcoords"
           }
          ],
          "pie": [
           {
            "automargin": true,
            "type": "pie"
           }
          ],
          "scatter": [
           {
            "fillpattern": {
             "fillmode": "overlay",
             "size": 10,
             "solidity": 0.2
            },
            "type": "scatter"
           }
          ],
          "scatter3d": [
           {
            "line": {
             "colorbar": {
              "outlinewidth": 0,
              "ticks": ""
             }
            },
            "marker": {
             "colorbar": {
              "outlinewidth": 0,
              "ticks": ""
             }
            },
            "type": "scatter3d"
           }
          ],
          "scattercarpet": [
           {
            "marker": {
             "colorbar": {
              "outlinewidth": 0,
              "ticks": ""
             }
            },
            "type": "scattercarpet"
           }
          ],
          "scattergeo": [
           {
            "marker": {
             "colorbar": {
              "outlinewidth": 0,
              "ticks": ""
             }
            },
            "type": "scattergeo"
           }
          ],
          "scattergl": [
           {
            "marker": {
             "colorbar": {
              "outlinewidth": 0,
              "ticks": ""
             }
            },
            "type": "scattergl"
           }
          ],
          "scattermapbox": [
           {
            "marker": {
             "colorbar": {
              "outlinewidth": 0,
              "ticks": ""
             }
            },
            "type": "scattermapbox"
           }
          ],
          "scatterpolar": [
           {
            "marker": {
             "colorbar": {
              "outlinewidth": 0,
              "ticks": ""
             }
            },
            "type": "scatterpolar"
           }
          ],
          "scatterpolargl": [
           {
            "marker": {
             "colorbar": {
              "outlinewidth": 0,
              "ticks": ""
             }
            },
            "type": "scatterpolargl"
           }
          ],
          "scatterternary": [
           {
            "marker": {
             "colorbar": {
              "outlinewidth": 0,
              "ticks": ""
             }
            },
            "type": "scatterternary"
           }
          ],
          "surface": [
           {
            "colorbar": {
             "outlinewidth": 0,
             "ticks": ""
            },
            "colorscale": [
             [
              0,
              "#0d0887"
             ],
             [
              0.1111111111111111,
              "#46039f"
             ],
             [
              0.2222222222222222,
              "#7201a8"
             ],
             [
              0.3333333333333333,
              "#9c179e"
             ],
             [
              0.4444444444444444,
              "#bd3786"
             ],
             [
              0.5555555555555556,
              "#d8576b"
             ],
             [
              0.6666666666666666,
              "#ed7953"
             ],
             [
              0.7777777777777778,
              "#fb9f3a"
             ],
             [
              0.8888888888888888,
              "#fdca26"
             ],
             [
              1,
              "#f0f921"
             ]
            ],
            "type": "surface"
           }
          ],
          "table": [
           {
            "cells": {
             "fill": {
              "color": "#EBF0F8"
             },
             "line": {
              "color": "white"
             }
            },
            "header": {
             "fill": {
              "color": "#C8D4E3"
             },
             "line": {
              "color": "white"
             }
            },
            "type": "table"
           }
          ]
         },
         "layout": {
          "annotationdefaults": {
           "arrowcolor": "#2a3f5f",
           "arrowhead": 0,
           "arrowwidth": 1
          },
          "autotypenumbers": "strict",
          "coloraxis": {
           "colorbar": {
            "outlinewidth": 0,
            "ticks": ""
           }
          },
          "colorscale": {
           "diverging": [
            [
             0,
             "#8e0152"
            ],
            [
             0.1,
             "#c51b7d"
            ],
            [
             0.2,
             "#de77ae"
            ],
            [
             0.3,
             "#f1b6da"
            ],
            [
             0.4,
             "#fde0ef"
            ],
            [
             0.5,
             "#f7f7f7"
            ],
            [
             0.6,
             "#e6f5d0"
            ],
            [
             0.7,
             "#b8e186"
            ],
            [
             0.8,
             "#7fbc41"
            ],
            [
             0.9,
             "#4d9221"
            ],
            [
             1,
             "#276419"
            ]
           ],
           "sequential": [
            [
             0,
             "#0d0887"
            ],
            [
             0.1111111111111111,
             "#46039f"
            ],
            [
             0.2222222222222222,
             "#7201a8"
            ],
            [
             0.3333333333333333,
             "#9c179e"
            ],
            [
             0.4444444444444444,
             "#bd3786"
            ],
            [
             0.5555555555555556,
             "#d8576b"
            ],
            [
             0.6666666666666666,
             "#ed7953"
            ],
            [
             0.7777777777777778,
             "#fb9f3a"
            ],
            [
             0.8888888888888888,
             "#fdca26"
            ],
            [
             1,
             "#f0f921"
            ]
           ],
           "sequentialminus": [
            [
             0,
             "#0d0887"
            ],
            [
             0.1111111111111111,
             "#46039f"
            ],
            [
             0.2222222222222222,
             "#7201a8"
            ],
            [
             0.3333333333333333,
             "#9c179e"
            ],
            [
             0.4444444444444444,
             "#bd3786"
            ],
            [
             0.5555555555555556,
             "#d8576b"
            ],
            [
             0.6666666666666666,
             "#ed7953"
            ],
            [
             0.7777777777777778,
             "#fb9f3a"
            ],
            [
             0.8888888888888888,
             "#fdca26"
            ],
            [
             1,
             "#f0f921"
            ]
           ]
          },
          "colorway": [
           "#636efa",
           "#EF553B",
           "#00cc96",
           "#ab63fa",
           "#FFA15A",
           "#19d3f3",
           "#FF6692",
           "#B6E880",
           "#FF97FF",
           "#FECB52"
          ],
          "font": {
           "color": "#2a3f5f"
          },
          "geo": {
           "bgcolor": "white",
           "lakecolor": "white",
           "landcolor": "#E5ECF6",
           "showlakes": true,
           "showland": true,
           "subunitcolor": "white"
          },
          "hoverlabel": {
           "align": "left"
          },
          "hovermode": "closest",
          "mapbox": {
           "style": "light"
          },
          "paper_bgcolor": "white",
          "plot_bgcolor": "#E5ECF6",
          "polar": {
           "angularaxis": {
            "gridcolor": "white",
            "linecolor": "white",
            "ticks": ""
           },
           "bgcolor": "#E5ECF6",
           "radialaxis": {
            "gridcolor": "white",
            "linecolor": "white",
            "ticks": ""
           }
          },
          "scene": {
           "xaxis": {
            "backgroundcolor": "#E5ECF6",
            "gridcolor": "white",
            "gridwidth": 2,
            "linecolor": "white",
            "showbackground": true,
            "ticks": "",
            "zerolinecolor": "white"
           },
           "yaxis": {
            "backgroundcolor": "#E5ECF6",
            "gridcolor": "white",
            "gridwidth": 2,
            "linecolor": "white",
            "showbackground": true,
            "ticks": "",
            "zerolinecolor": "white"
           },
           "zaxis": {
            "backgroundcolor": "#E5ECF6",
            "gridcolor": "white",
            "gridwidth": 2,
            "linecolor": "white",
            "showbackground": true,
            "ticks": "",
            "zerolinecolor": "white"
           }
          },
          "shapedefaults": {
           "line": {
            "color": "#2a3f5f"
           }
          },
          "ternary": {
           "aaxis": {
            "gridcolor": "white",
            "linecolor": "white",
            "ticks": ""
           },
           "baxis": {
            "gridcolor": "white",
            "linecolor": "white",
            "ticks": ""
           },
           "bgcolor": "#E5ECF6",
           "caxis": {
            "gridcolor": "white",
            "linecolor": "white",
            "ticks": ""
           }
          },
          "title": {
           "x": 0.05
          },
          "xaxis": {
           "automargin": true,
           "gridcolor": "white",
           "linecolor": "white",
           "ticks": "",
           "title": {
            "standoff": 15
           },
           "zerolinecolor": "white",
           "zerolinewidth": 2
          },
          "yaxis": {
           "automargin": true,
           "gridcolor": "white",
           "linecolor": "white",
           "ticks": "",
           "title": {
            "standoff": 15
           },
           "zerolinecolor": "white",
           "zerolinewidth": 2
          }
         }
        },
        "title": {
         "text": "<b>Number of Agents: 1</b>",
         "x": 0.5
        },
        "updatemenus": [
         {
          "buttons": [
           {
            "args": [
             null,
             {
              "frame": {
               "duration": 100,
               "redraw": true
              },
              "fromcurrent": true
             }
            ],
            "label": "Play",
            "method": "animate"
           }
          ],
          "direction": "left",
          "pad": {
           "r": 10,
           "t": 87
          },
          "showactive": false,
          "type": "buttons",
          "x": 0.1,
          "xanchor": "right",
          "y": 0,
          "yanchor": "top"
         }
        ],
        "width": 800,
        "xaxis": {
         "range": [
          -0.5,
          42.5
         ]
        },
        "yaxis": {
         "range": [
          -0.5,
          2.5
         ],
         "scaleanchor": "x",
         "scaleratio": 1
        }
       }
      }
     },
     "metadata": {},
     "output_type": "display_data"
    }
   ],
   "source": [
    "from jupedsim.internal.notebook_utils import animate, read_sqlite_file\n",
    "\n",
    "trajectory_data, walkable_area = read_sqlite_file(trajectory_file)\n",
    "animate(trajectory_data, walkable_area).show()"
   ]
  },
  {
   "cell_type": "markdown",
   "id": "347c5cb6",
   "metadata": {},
   "source": [
    "As expected, the agent chooses the shortest path and takes 30.7 seconds which is in the proper range (26-34 seconds) for the speed 1.33 m/sec."
   ]
  }
 ],
 "metadata": {
  "kernelspec": {
   "display_name": "venv",
   "language": "python",
   "name": "venv"
  },
  "language_info": {
   "codemirror_mode": {
    "name": "ipython",
    "version": 3
   },
   "file_extension": ".py",
   "mimetype": "text/x-python",
   "name": "python",
   "nbconvert_exporter": "python",
   "pygments_lexer": "ipython3",
   "version": "3.10.0"
  }
 },
 "nbformat": 4,
 "nbformat_minor": 5
}
