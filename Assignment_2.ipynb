{
 "cells": [
  {
   "cell_type": "markdown",
   "id": "77488324",
   "metadata": {},
   "source": [
    "## Name : Md Rasel\n",
    "### Matriculation no: 2130710"
   ]
  },
  {
   "cell_type": "code",
   "execution_count": null,
   "id": "58b6bf30",
   "metadata": {},
   "outputs": [],
   "source": [
    "import jupedsim as jps\n",
    "import pedpy\n",
    "from pedpy import WalkableArea, MeasurementArea\n",
    "import shapely \n",
    "from shapely import Polygon, Point\n",
    "import pathlib\n",
    "import numpy as np\n",
    "\n",
    "area = Polygon([(0, 0), (20, 0), (20, 20), (0, 20)])\n",
    "walkable_area = WalkableArea(area)\n",
    "measurement_area = MeasurementArea(area)\n",
    "\n",
    "spawning_area = Polygon([(2, 2), (18, 2), (18, 18), (2, 18)])\n",
    "num_agents_per_exit = 25\n",
    "num_exits = 4\n",
    "total_agents = num_agents_per_exit * num_exits\n",
    "\n",
    "exit_areas = [\n",
    "    [(4, 0), (5, 0), (5, 0.2), (4, 0.2)],\n",
    "    [(15, 0), (16, 0), (16, 0.2), (15, 0.2)],\n",
    "    [(4, 19.8), (4, 20), (5, 20), (5, 19.8)],\n",
    "    [(15, 19.8), (15, 20), (16, 20), (16, 19.8)],\n",
    "]\n",
    "\n",
    "pos_in_spawning_area = jps.distributions.distribute_by_density(\n",
    "    polygon=spawning_area,\n",
    "    density=total_agents / spawning_area.area,\n",
    "    distance_to_agents=0.5,\n",
    "    distance_to_polygon=0.7,\n",
    "    seed=45131502,\n",
    ")\n",
    "\n",
    "trajectory_file = \"Test9.sqlite\"  # output file\n",
    "simulation = jps.Simulation(\n",
    "    model=jps.CollisionFreeSpeedModel(),\n",
    "    geometry=area,\n",
    "    trajectory_writer=jps.SqliteTrajectoryWriter(\n",
    "        output_file=pathlib.Path(trajectory_file)\n",
    "    ),\n",
    ")\n",
    "\n",
    "exit_ids = []\n",
    "journey_ids = []\n",
    "\n",
    "for exit_area in exit_areas:\n",
    "    exit_id = simulation.add_exit_stage(exit_area)\n",
    "    exit_ids.append(exit_id)\n",
    "    \n",
    "    journey = jps.JourneyDescription([exit_id])\n",
    "    journey_id = simulation.add_journey(journey)\n",
    "    journey_ids.append(journey_id)\n",
    "\n",
    "ids = []\n",
    "\n",
    "v_distribution = np.random.normal(1.2, 0.05, total_agents)\n",
    "\n",
    "for pos, v0 in zip(pos_in_spawning_area, v_distribution):\n",
    "    min_distance = float('inf')\n",
    "    selected_journey_id = None\n",
    "    selected_exit_id = None\n",
    "    \n",
    "    for i, exit_area in enumerate(exit_areas):\n",
    "        distance = Point(pos).distance(Polygon(exit_area))\n",
    "        if distance < min_distance:\n",
    "            min_distance = distance\n",
    "            selected_journey_id = journey_ids[i]\n",
    "            selected_exit_id = exit_ids[i]\n",
    "    \n",
    "    agent_params = jps.CollisionFreeSpeedModelAgentParameters(\n",
    "        journey_id=selected_journey_id,\n",
    "        stage_id=selected_exit_id,  \n",
    "        position=pos,\n",
    "        v0=v0,\n",
    "        radius=0.15,\n",
    "    )\n",
    "    id = simulation.add_agent(agent_params)\n",
    "    ids.append(id)\n",
    "\n",
    "while simulation.agent_count() > 0:\n",
    "    simulation.iterate()\n",
    "      \n"
   ]
  },
  {
   "cell_type": "code",
   "execution_count": null,
   "id": "766d7d85",
   "metadata": {},
   "outputs": [],
   "source": [
    "from jupedsim.internal.notebook_utils import animate, read_sqlite_file\n",
    "\n",
    "trajectory_data, walkable_area = read_sqlite_file(trajectory_file)\n",
    "animate(trajectory_data, walkable_area, every_nth_frame=10)"
   ]
  },
  {
   "cell_type": "markdown",
   "id": "cb5940ea",
   "metadata": {},
   "source": [
    "# Analysis"
   ]
  },
  {
   "cell_type": "code",
   "execution_count": null,
   "id": "45e0593e",
   "metadata": {},
   "outputs": [],
   "source": []
  }
 ],
 "metadata": {
  "kernelspec": {
   "display_name": "Python 3 (ipykernel)",
   "language": "python",
   "name": "python3"
  },
  "language_info": {
   "codemirror_mode": {
    "name": "ipython",
    "version": 3
   },
   "file_extension": ".py",
   "mimetype": "text/x-python",
   "name": "python",
   "nbconvert_exporter": "python",
   "pygments_lexer": "ipython3",
   "version": "3.10.0"
  }
 },
 "nbformat": 4,
 "nbformat_minor": 5
}
